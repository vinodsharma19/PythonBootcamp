{
  "cells": [
    {
      "cell_type": "markdown",
      "metadata": {
        "id": "view-in-github",
        "colab_type": "text"
      },
      "source": [
        "<a href=\"https://colab.research.google.com/github/vinodsharma19/PythonBootcamp/blob/main/Copy_of_1_Numpy.ipynb\" target=\"_parent\"><img src=\"https://colab.research.google.com/assets/colab-badge.svg\" alt=\"Open In Colab\"/></a>"
      ]
    },
    {
      "cell_type": "code",
      "execution_count": null,
      "id": "f1273588-b15f-45d3-bdf9-1750ae44fba1",
      "metadata": {
        "id": "f1273588-b15f-45d3-bdf9-1750ae44fba1"
      },
      "outputs": [],
      "source": [
        "# list\n",
        "# tuples\n",
        "# sets\n",
        "# dict\n",
        "# strings\n",
        "# if elif else\n",
        "# def | lambda\n",
        "# for while"
      ]
    },
    {
      "cell_type": "code",
      "execution_count": null,
      "id": "0aa7a667-fe7d-47ad-a44c-8e0424848102",
      "metadata": {
        "id": "0aa7a667-fe7d-47ad-a44c-8e0424848102"
      },
      "outputs": [],
      "source": [
        "\n",
        "# NumPy -> Numerical Python!\n",
        "# array -> fast, multidimensional objects used for numerical calcualtions!"
      ]
    },
    {
      "cell_type": "code",
      "execution_count": null,
      "id": "28f90405-8624-45ef-a5d2-600c69e4a199",
      "metadata": {
        "id": "28f90405-8624-45ef-a5d2-600c69e4a199"
      },
      "outputs": [],
      "source": [
        "import numpy  as np\n",
        "import pandas as pd"
      ]
    },
    {
      "cell_type": "code",
      "execution_count": null,
      "id": "8d443b38-b8c2-4d28-a6a6-810100cf31f5",
      "metadata": {
        "id": "8d443b38-b8c2-4d28-a6a6-810100cf31f5",
        "outputId": "1962e8a2-7ed5-46a9-dd4d-c3a379742fd0",
        "colab": {
          "base_uri": "https://localhost:8080/"
        }
      },
      "outputs": [
        {
          "output_type": "execute_result",
          "data": {
            "text/plain": [
              "array([1, 2, 3, 4, 5])"
            ]
          },
          "metadata": {},
          "execution_count": 4
        }
      ],
      "source": [
        "arr_1d = np.array([1,2,3,4,5])\n",
        "arr_1d"
      ]
    },
    {
      "cell_type": "code",
      "execution_count": null,
      "id": "f8f216b1-8a0e-4e17-926d-106ebc26e880",
      "metadata": {
        "id": "f8f216b1-8a0e-4e17-926d-106ebc26e880",
        "outputId": "65af0c0c-f1aa-4b21-904b-e98388b70ae6",
        "colab": {
          "base_uri": "https://localhost:8080/"
        }
      },
      "outputs": [
        {
          "output_type": "stream",
          "name": "stdout",
          "text": [
            "[1 2 3 4 5]\n"
          ]
        }
      ],
      "source": [
        "print(arr_1d)"
      ]
    },
    {
      "cell_type": "code",
      "execution_count": null,
      "id": "08b9a260-3bb1-4491-b0a8-bdf232910e6c",
      "metadata": {
        "id": "08b9a260-3bb1-4491-b0a8-bdf232910e6c",
        "outputId": "a7799e46-5bed-4f65-f291-45db60857525",
        "colab": {
          "base_uri": "https://localhost:8080/"
        }
      },
      "outputs": [
        {
          "output_type": "execute_result",
          "data": {
            "text/plain": [
              "array([1, 2, 3, 4, 5])"
            ]
          },
          "metadata": {},
          "execution_count": 6
        }
      ],
      "source": [
        "arr_1d = np.array((1,2,3,4,5))\n",
        "arr_1d"
      ]
    },
    {
      "cell_type": "code",
      "execution_count": null,
      "id": "229da4ca-5fa8-4675-8fa1-a9a865f73e82",
      "metadata": {
        "id": "229da4ca-5fa8-4675-8fa1-a9a865f73e82",
        "outputId": "8e4e847b-7d43-47bb-a229-8d0c2fe584d4",
        "colab": {
          "base_uri": "https://localhost:8080/"
        }
      },
      "outputs": [
        {
          "output_type": "execute_result",
          "data": {
            "text/plain": [
              "numpy.ndarray"
            ]
          },
          "metadata": {},
          "execution_count": 7
        }
      ],
      "source": [
        "type(arr_1d)"
      ]
    },
    {
      "cell_type": "code",
      "execution_count": null,
      "id": "d1b249fa-2933-4706-a4f8-e00c0d2c97d0",
      "metadata": {
        "id": "d1b249fa-2933-4706-a4f8-e00c0d2c97d0",
        "outputId": "c40568cf-6131-4582-a49d-1af94c773341",
        "colab": {
          "base_uri": "https://localhost:8080/"
        }
      },
      "outputs": [
        {
          "output_type": "execute_result",
          "data": {
            "text/plain": [
              "1"
            ]
          },
          "metadata": {},
          "execution_count": 8
        }
      ],
      "source": [
        "arr_1d.ndim #dimension of the array!"
      ]
    },
    {
      "cell_type": "code",
      "execution_count": null,
      "id": "68bdf863-7bde-437a-ad2d-bd62226bdb11",
      "metadata": {
        "id": "68bdf863-7bde-437a-ad2d-bd62226bdb11",
        "outputId": "bad0c05f-80bd-496d-ed0f-0bc38ceb506c",
        "colab": {
          "base_uri": "https://localhost:8080/"
        }
      },
      "outputs": [
        {
          "output_type": "execute_result",
          "data": {
            "text/plain": [
              "array([[1, 2, 3],\n",
              "       [4, 5, 6]])"
            ]
          },
          "metadata": {},
          "execution_count": 9
        }
      ],
      "source": [
        "# 2d array :\n",
        "arr_2d = np.array([[1,2,3],[4,5,6]])\n",
        "arr_2d"
      ]
    },
    {
      "cell_type": "code",
      "execution_count": null,
      "id": "e9d9a45f-f8cc-45b2-ae1c-d04db8464f61",
      "metadata": {
        "id": "e9d9a45f-f8cc-45b2-ae1c-d04db8464f61",
        "outputId": "dc85e24a-6dbd-4fed-8e97-25fff3527982",
        "colab": {
          "base_uri": "https://localhost:8080/"
        }
      },
      "outputs": [
        {
          "output_type": "execute_result",
          "data": {
            "text/plain": [
              "2"
            ]
          },
          "metadata": {},
          "execution_count": 10
        }
      ],
      "source": [
        "arr_2d.ndim"
      ]
    },
    {
      "cell_type": "code",
      "execution_count": null,
      "id": "7d7ac78b-4fa5-4239-aedd-89f30be08e89",
      "metadata": {
        "id": "7d7ac78b-4fa5-4239-aedd-89f30be08e89",
        "outputId": "db600955-e254-4b23-c68e-01c63ae080cf",
        "colab": {
          "base_uri": "https://localhost:8080/"
        }
      },
      "outputs": [
        {
          "output_type": "execute_result",
          "data": {
            "text/plain": [
              "(2, 3)"
            ]
          },
          "metadata": {},
          "execution_count": 11
        }
      ],
      "source": [
        "arr_2d.shape #rows,columns!"
      ]
    },
    {
      "cell_type": "code",
      "execution_count": null,
      "id": "364f468f-53e9-41e8-a762-5b2a024f7ba8",
      "metadata": {
        "id": "364f468f-53e9-41e8-a762-5b2a024f7ba8"
      },
      "outputs": [],
      "source": []
    },
    {
      "cell_type": "code",
      "execution_count": null,
      "id": "7cd7cb4f-abd6-4780-9064-e34f8c372eda",
      "metadata": {
        "id": "7cd7cb4f-abd6-4780-9064-e34f8c372eda",
        "outputId": "00b86caf-3ae2-41c6-ef21-97f2c048943f",
        "colab": {
          "base_uri": "https://localhost:8080/"
        }
      },
      "outputs": [
        {
          "output_type": "execute_result",
          "data": {
            "text/plain": [
              "array([0., 0., 0., 0., 0.])"
            ]
          },
          "metadata": {},
          "execution_count": 12
        }
      ],
      "source": [
        "# zero!\n",
        "arr_zero = np.zeros(5)\n",
        "arr_zero"
      ]
    },
    {
      "cell_type": "code",
      "execution_count": null,
      "id": "a3dca577-6e62-4480-93e0-4cbc154501a0",
      "metadata": {
        "id": "a3dca577-6e62-4480-93e0-4cbc154501a0",
        "outputId": "fe49de97-9dea-4ba4-ab31-13f426ccdaac",
        "colab": {
          "base_uri": "https://localhost:8080/"
        }
      },
      "outputs": [
        {
          "output_type": "execute_result",
          "data": {
            "text/plain": [
              "array([[0., 0.],\n",
              "       [0., 0.]])"
            ]
          },
          "metadata": {},
          "execution_count": 13
        }
      ],
      "source": [
        "np.zeros((2,2))"
      ]
    },
    {
      "cell_type": "code",
      "execution_count": null,
      "id": "f250c371-e8a1-49de-8024-2b51386cd827",
      "metadata": {
        "id": "f250c371-e8a1-49de-8024-2b51386cd827"
      },
      "outputs": [],
      "source": []
    },
    {
      "cell_type": "code",
      "execution_count": null,
      "id": "8417dd40-342a-498e-bdc8-24a59bc95e56",
      "metadata": {
        "id": "8417dd40-342a-498e-bdc8-24a59bc95e56",
        "outputId": "21512ad4-b416-4a72-a408-3b649223b8d6",
        "colab": {
          "base_uri": "https://localhost:8080/"
        }
      },
      "outputs": [
        {
          "output_type": "execute_result",
          "data": {
            "text/plain": [
              "array([1., 1., 1., 1., 1., 1., 1., 1., 1., 1.])"
            ]
          },
          "metadata": {},
          "execution_count": 14
        }
      ],
      "source": [
        "# np.ones\n",
        "arr_1 = np.ones(10)\n",
        "arr_1"
      ]
    },
    {
      "cell_type": "code",
      "execution_count": null,
      "id": "78567830-7a0d-488f-8fd3-cc6d8745c995",
      "metadata": {
        "id": "78567830-7a0d-488f-8fd3-cc6d8745c995",
        "outputId": "83c9f237-7bd2-4e5f-a5ed-ceface10bf0d",
        "colab": {
          "base_uri": "https://localhost:8080/"
        }
      },
      "outputs": [
        {
          "output_type": "execute_result",
          "data": {
            "text/plain": [
              "array([[1, 1, 1, 1, 1],\n",
              "       [1, 1, 1, 1, 1],\n",
              "       [1, 1, 1, 1, 1],\n",
              "       [1, 1, 1, 1, 1],\n",
              "       [1, 1, 1, 1, 1]])"
            ]
          },
          "metadata": {},
          "execution_count": 15
        }
      ],
      "source": [
        "np.ones((5,5),dtype=int)"
      ]
    },
    {
      "cell_type": "code",
      "execution_count": null,
      "id": "96aa434b-5e37-4684-98a0-db16d89bd2f0",
      "metadata": {
        "id": "96aa434b-5e37-4684-98a0-db16d89bd2f0"
      },
      "outputs": [],
      "source": []
    },
    {
      "cell_type": "code",
      "execution_count": null,
      "id": "d20a8495-1df9-4f3c-8bb3-091b2f013977",
      "metadata": {
        "id": "d20a8495-1df9-4f3c-8bb3-091b2f013977"
      },
      "outputs": [],
      "source": [
        "# Creating two arrays\n",
        "arr1 = np.array([1, 2, 3, 4])\n",
        "arr2 = np.array([5, 6, 7, 8])"
      ]
    },
    {
      "cell_type": "code",
      "execution_count": null,
      "id": "b0b5d601-6604-4fcb-b96d-4cf2470257fb",
      "metadata": {
        "id": "b0b5d601-6604-4fcb-b96d-4cf2470257fb",
        "outputId": "95a95526-81a9-47c0-cc7e-1b58cd38a2dc",
        "colab": {
          "base_uri": "https://localhost:8080/"
        }
      },
      "outputs": [
        {
          "output_type": "execute_result",
          "data": {
            "text/plain": [
              "array([ 6,  8, 10, 12])"
            ]
          },
          "metadata": {},
          "execution_count": 17
        }
      ],
      "source": [
        "arr1 + arr2 #addition!"
      ]
    },
    {
      "cell_type": "code",
      "execution_count": null,
      "id": "a926243c-fc3b-426e-acd6-c9baf46b0ea4",
      "metadata": {
        "id": "a926243c-fc3b-426e-acd6-c9baf46b0ea4",
        "outputId": "0bb97bba-92d3-404a-db6f-598124873012",
        "colab": {
          "base_uri": "https://localhost:8080/"
        }
      },
      "outputs": [
        {
          "output_type": "execute_result",
          "data": {
            "text/plain": [
              "array([-4, -4, -4, -4])"
            ]
          },
          "metadata": {},
          "execution_count": 18
        }
      ],
      "source": [
        "arr1 - arr2 #sub"
      ]
    },
    {
      "cell_type": "code",
      "execution_count": null,
      "id": "f1174684-e3d6-4116-a97d-237db843ec01",
      "metadata": {
        "id": "f1174684-e3d6-4116-a97d-237db843ec01",
        "outputId": "15e97747-3c6f-42df-9a3d-444a150a343e",
        "colab": {
          "base_uri": "https://localhost:8080/"
        }
      },
      "outputs": [
        {
          "output_type": "execute_result",
          "data": {
            "text/plain": [
              "array([ 5, 12, 21, 32])"
            ]
          },
          "metadata": {},
          "execution_count": 19
        }
      ],
      "source": [
        "arr1*arr2"
      ]
    },
    {
      "cell_type": "code",
      "execution_count": null,
      "id": "d36925de-ba48-4788-8e76-e404b18325d2",
      "metadata": {
        "id": "d36925de-ba48-4788-8e76-e404b18325d2",
        "outputId": "fd9be896-397c-49dd-f8ce-2016527417be",
        "colab": {
          "base_uri": "https://localhost:8080/"
        }
      },
      "outputs": [
        {
          "output_type": "execute_result",
          "data": {
            "text/plain": [
              "array([0.2       , 0.33333333, 0.42857143, 0.5       ])"
            ]
          },
          "metadata": {},
          "execution_count": 20
        }
      ],
      "source": [
        "arr1/arr2"
      ]
    },
    {
      "cell_type": "code",
      "execution_count": null,
      "id": "fc7702aa-eaaf-407c-9101-63df39e2bff3",
      "metadata": {
        "id": "fc7702aa-eaaf-407c-9101-63df39e2bff3"
      },
      "outputs": [],
      "source": []
    },
    {
      "cell_type": "code",
      "execution_count": null,
      "id": "b7e3a7ef-8b63-464c-b243-7c62fbc9d790",
      "metadata": {
        "id": "b7e3a7ef-8b63-464c-b243-7c62fbc9d790",
        "outputId": "e237f13e-a3fb-4291-ce60-1f0dd6de0537",
        "colab": {
          "base_uri": "https://localhost:8080/"
        }
      },
      "outputs": [
        {
          "output_type": "execute_result",
          "data": {
            "text/plain": [
              "array([ 5, 10, 15, 20, 25])"
            ]
          },
          "metadata": {},
          "execution_count": 21
        }
      ],
      "source": [
        "arr = np.array([5,10,15,20,25])\n",
        "arr"
      ]
    },
    {
      "cell_type": "code",
      "execution_count": null,
      "id": "ad20f6b7-a19d-4809-8b74-78fd2c4c311c",
      "metadata": {
        "id": "ad20f6b7-a19d-4809-8b74-78fd2c4c311c",
        "outputId": "50c26d9e-06ae-4b50-d5aa-2f518bd1c49b",
        "colab": {
          "base_uri": "https://localhost:8080/"
        }
      },
      "outputs": [
        {
          "output_type": "execute_result",
          "data": {
            "text/plain": [
              "np.int64(5)"
            ]
          },
          "metadata": {},
          "execution_count": 22
        }
      ],
      "source": [
        "np.min(arr)"
      ]
    },
    {
      "cell_type": "code",
      "execution_count": null,
      "id": "8065ec5c-7cc2-4897-877f-3fa121ceebb7",
      "metadata": {
        "id": "8065ec5c-7cc2-4897-877f-3fa121ceebb7",
        "outputId": "5e6b0514-8519-45d0-a4a1-b0ce8b975da5",
        "colab": {
          "base_uri": "https://localhost:8080/"
        }
      },
      "outputs": [
        {
          "output_type": "execute_result",
          "data": {
            "text/plain": [
              "np.int64(25)"
            ]
          },
          "metadata": {},
          "execution_count": 23
        }
      ],
      "source": [
        "np.max(arr)"
      ]
    },
    {
      "cell_type": "code",
      "execution_count": null,
      "id": "275a9aba-9b75-4c1e-bd74-42b81b7a41e5",
      "metadata": {
        "id": "275a9aba-9b75-4c1e-bd74-42b81b7a41e5",
        "outputId": "8b390708-6f7a-4ed5-f1f7-f5e174368924",
        "colab": {
          "base_uri": "https://localhost:8080/"
        }
      },
      "outputs": [
        {
          "output_type": "execute_result",
          "data": {
            "text/plain": [
              "np.float64(15.0)"
            ]
          },
          "metadata": {},
          "execution_count": 24
        }
      ],
      "source": [
        "np.mean(arr)"
      ]
    },
    {
      "cell_type": "code",
      "execution_count": null,
      "id": "835a3ec2-43b3-436f-8179-2e05d545a844",
      "metadata": {
        "id": "835a3ec2-43b3-436f-8179-2e05d545a844",
        "outputId": "47b199bc-dbce-4c64-ad19-5a66b8983dd9",
        "colab": {
          "base_uri": "https://localhost:8080/"
        }
      },
      "outputs": [
        {
          "output_type": "execute_result",
          "data": {
            "text/plain": [
              "np.float64(15.0)"
            ]
          },
          "metadata": {},
          "execution_count": 25
        }
      ],
      "source": [
        "np.median(arr)"
      ]
    },
    {
      "cell_type": "code",
      "execution_count": null,
      "id": "31409c61-5c1e-4df8-83ca-ee18c617f2a3",
      "metadata": {
        "id": "31409c61-5c1e-4df8-83ca-ee18c617f2a3"
      },
      "outputs": [],
      "source": []
    },
    {
      "cell_type": "code",
      "execution_count": null,
      "id": "62473dd1-6d34-426b-b01b-a6dd9cd1d9b4",
      "metadata": {
        "id": "62473dd1-6d34-426b-b01b-a6dd9cd1d9b4",
        "outputId": "1e8e75a7-77ed-4cdb-82a1-2bab01f1574f",
        "colab": {
          "base_uri": "https://localhost:8080/"
        }
      },
      "outputs": [
        {
          "output_type": "execute_result",
          "data": {
            "text/plain": [
              "array([ 1,  2,  3,  4,  5,  6,  7,  8,  9, 10, 11, 12])"
            ]
          },
          "metadata": {},
          "execution_count": 26
        }
      ],
      "source": [
        "arr = np.array([1, 2, 3, 4, 5, 6, 7, 8, 9, 10, 11, 12])\n",
        "arr"
      ]
    },
    {
      "cell_type": "code",
      "execution_count": null,
      "id": "f40c3e1f-0121-4918-9a72-7de1b0a4dd1d",
      "metadata": {
        "id": "f40c3e1f-0121-4918-9a72-7de1b0a4dd1d"
      },
      "outputs": [],
      "source": [
        "# no. of elemets - 12 | as of now its 1d array\n",
        "# reshape array to other shapes , which other shapes are applicable?\n",
        "# 2x6 | 6x2 | 3x4 | 4x3 | 12*1 | 1*12 - CAN\n",
        "# 1x8 , 10x1 - CANNOT (Total elements - 12)"
      ]
    },
    {
      "cell_type": "code",
      "execution_count": null,
      "id": "d70e933d-49b1-49f8-b255-26f233a7518a",
      "metadata": {
        "id": "d70e933d-49b1-49f8-b255-26f233a7518a",
        "outputId": "3771ca17-3439-4f2d-c672-a361afdc8c18",
        "colab": {
          "base_uri": "https://localhost:8080/"
        }
      },
      "outputs": [
        {
          "output_type": "execute_result",
          "data": {
            "text/plain": [
              "array([ 1,  2,  3,  4,  5,  6,  7,  8,  9, 10, 11, 12])"
            ]
          },
          "metadata": {},
          "execution_count": 28
        }
      ],
      "source": [
        "arr"
      ]
    },
    {
      "cell_type": "code",
      "execution_count": null,
      "id": "6f1cea2a-e02c-44be-a452-7cd0540020fc",
      "metadata": {
        "id": "6f1cea2a-e02c-44be-a452-7cd0540020fc",
        "outputId": "c5beb406-c989-43a2-ecec-2b8e314898ab",
        "colab": {
          "base_uri": "https://localhost:8080/"
        }
      },
      "outputs": [
        {
          "output_type": "execute_result",
          "data": {
            "text/plain": [
              "array([[ 1,  2,  3,  4],\n",
              "       [ 5,  6,  7,  8],\n",
              "       [ 9, 10, 11, 12]])"
            ]
          },
          "metadata": {},
          "execution_count": 30
        }
      ],
      "source": [
        "arr.reshape(3,4) #error"
      ]
    },
    {
      "cell_type": "code",
      "execution_count": null,
      "id": "4e979671-984b-452b-bbc3-665d49534b99",
      "metadata": {
        "id": "4e979671-984b-452b-bbc3-665d49534b99"
      },
      "outputs": [],
      "source": []
    },
    {
      "cell_type": "code",
      "execution_count": null,
      "id": "2c3abbbe-701c-4284-8dab-f80054220ca3",
      "metadata": {
        "id": "2c3abbbe-701c-4284-8dab-f80054220ca3"
      },
      "outputs": [],
      "source": []
    },
    {
      "cell_type": "code",
      "execution_count": null,
      "id": "2e074c82-1daf-4192-9b75-4b7cb884e78e",
      "metadata": {
        "id": "2e074c82-1daf-4192-9b75-4b7cb884e78e",
        "outputId": "3d877f8f-af3f-4db8-d536-2f9d2380b859",
        "colab": {
          "base_uri": "https://localhost:8080/"
        }
      },
      "outputs": [
        {
          "output_type": "execute_result",
          "data": {
            "text/plain": [
              "array([ 1,  2,  3,  4,  5,  6,  7,  8,  9, 10, 11, 12])"
            ]
          },
          "metadata": {},
          "execution_count": 31
        }
      ],
      "source": [
        "arr"
      ]
    },
    {
      "cell_type": "code",
      "execution_count": null,
      "id": "c22e0838-3dfd-41fa-acb2-c2cdf7efda55",
      "metadata": {
        "id": "c22e0838-3dfd-41fa-acb2-c2cdf7efda55",
        "outputId": "7af75f4b-42eb-4722-dc1e-d799dfd51199",
        "colab": {
          "base_uri": "https://localhost:8080/"
        }
      },
      "outputs": [
        {
          "output_type": "execute_result",
          "data": {
            "text/plain": [
              "array([[ 1,  2,  3],\n",
              "       [ 4,  5,  6],\n",
              "       [ 7,  8,  9],\n",
              "       [10, 11, 12]])"
            ]
          },
          "metadata": {},
          "execution_count": 32
        }
      ],
      "source": [
        "arr.reshape(4,3)"
      ]
    },
    {
      "cell_type": "code",
      "execution_count": null,
      "id": "43ec53ee-03a3-4755-9421-e6b9bfb21996",
      "metadata": {
        "id": "43ec53ee-03a3-4755-9421-e6b9bfb21996",
        "outputId": "a3c677c2-179d-4e31-c069-ef63b26f7307",
        "colab": {
          "base_uri": "https://localhost:8080/"
        }
      },
      "outputs": [
        {
          "output_type": "execute_result",
          "data": {
            "text/plain": [
              "array([[ 1,  2,  3,  4],\n",
              "       [ 5,  6,  7,  8],\n",
              "       [ 9, 10, 11, 12]])"
            ]
          },
          "metadata": {},
          "execution_count": 33
        }
      ],
      "source": [
        "arr.reshape(3,4)"
      ]
    },
    {
      "cell_type": "code",
      "execution_count": null,
      "id": "9517a156-2a3c-43c0-b5ea-beaf01429f96",
      "metadata": {
        "id": "9517a156-2a3c-43c0-b5ea-beaf01429f96",
        "outputId": "9c5f4247-ec2a-4594-b354-fef94aadb9f0",
        "colab": {
          "base_uri": "https://localhost:8080/"
        }
      },
      "outputs": [
        {
          "output_type": "execute_result",
          "data": {
            "text/plain": [
              "array([[ 1,  2],\n",
              "       [ 3,  4],\n",
              "       [ 5,  6],\n",
              "       [ 7,  8],\n",
              "       [ 9, 10],\n",
              "       [11, 12]])"
            ]
          },
          "metadata": {},
          "execution_count": 34
        }
      ],
      "source": [
        "arr.reshape(6,2)"
      ]
    },
    {
      "cell_type": "code",
      "execution_count": null,
      "id": "40f6e38e-d364-4f3e-a548-c55345598e02",
      "metadata": {
        "id": "40f6e38e-d364-4f3e-a548-c55345598e02",
        "outputId": "2d5ffb8e-b106-474e-b02b-60f0853d208a",
        "colab": {
          "base_uri": "https://localhost:8080/"
        }
      },
      "outputs": [
        {
          "output_type": "execute_result",
          "data": {
            "text/plain": [
              "array([[ 1,  2,  3,  4,  5,  6],\n",
              "       [ 7,  8,  9, 10, 11, 12]])"
            ]
          },
          "metadata": {},
          "execution_count": 36
        }
      ],
      "source": [
        "arr.reshape(2,6)"
      ]
    },
    {
      "cell_type": "code",
      "execution_count": null,
      "id": "601d0a9e-0d4d-432e-bba6-763e575facbb",
      "metadata": {
        "id": "601d0a9e-0d4d-432e-bba6-763e575facbb"
      },
      "outputs": [],
      "source": []
    },
    {
      "cell_type": "code",
      "execution_count": null,
      "id": "a7223a7b-2d04-40cb-a4e6-5cc65ddc536a",
      "metadata": {
        "id": "a7223a7b-2d04-40cb-a4e6-5cc65ddc536a",
        "outputId": "7823d6cf-046e-4feb-af25-f9954bda1f34",
        "colab": {
          "base_uri": "https://localhost:8080/"
        }
      },
      "outputs": [
        {
          "output_type": "execute_result",
          "data": {
            "text/plain": [
              "array([ 5, 12,  1,  0,  3])"
            ]
          },
          "metadata": {},
          "execution_count": 37
        }
      ],
      "source": [
        "arr = np.array([5,12,1,0,3])\n",
        "arr"
      ]
    },
    {
      "cell_type": "code",
      "execution_count": null,
      "id": "f7c3d411-e132-400d-a7ce-fa82fa3d7978",
      "metadata": {
        "id": "f7c3d411-e132-400d-a7ce-fa82fa3d7978",
        "outputId": "c1910553-504a-48c2-e9ac-87cf9dc002cb",
        "colab": {
          "base_uri": "https://localhost:8080/"
        }
      },
      "outputs": [
        {
          "output_type": "execute_result",
          "data": {
            "text/plain": [
              "np.int64(5)"
            ]
          },
          "metadata": {},
          "execution_count": 38
        }
      ],
      "source": [
        "arr[0]"
      ]
    },
    {
      "cell_type": "code",
      "execution_count": null,
      "id": "4837c668-8686-4ea3-869e-a248dd4bba68",
      "metadata": {
        "id": "4837c668-8686-4ea3-869e-a248dd4bba68",
        "outputId": "badea41e-b433-4bb2-d2b5-b554799f246d",
        "colab": {
          "base_uri": "https://localhost:8080/"
        }
      },
      "outputs": [
        {
          "output_type": "execute_result",
          "data": {
            "text/plain": [
              "np.int64(0)"
            ]
          },
          "metadata": {},
          "execution_count": 39
        }
      ],
      "source": [
        "arr[3] # 3rd index ; 4th element"
      ]
    },
    {
      "cell_type": "code",
      "execution_count": null,
      "id": "8d1e53f8-78d3-439f-99f3-51df7e000fef",
      "metadata": {
        "id": "8d1e53f8-78d3-439f-99f3-51df7e000fef"
      },
      "outputs": [],
      "source": []
    },
    {
      "cell_type": "code",
      "execution_count": null,
      "id": "03f24823-9d0f-406c-8f96-2cc03a601f17",
      "metadata": {
        "id": "03f24823-9d0f-406c-8f96-2cc03a601f17"
      },
      "outputs": [],
      "source": [
        "# what is an identity matrix?"
      ]
    },
    {
      "cell_type": "code",
      "execution_count": null,
      "id": "33145594-8d04-443b-87be-ef5bd25097ad",
      "metadata": {
        "id": "33145594-8d04-443b-87be-ef5bd25097ad"
      },
      "outputs": [],
      "source": [
        "# nxn array diagnol with 1 as diagnol"
      ]
    },
    {
      "cell_type": "code",
      "execution_count": null,
      "id": "55968846-d960-4d03-bb48-4c1862846c6b",
      "metadata": {
        "id": "55968846-d960-4d03-bb48-4c1862846c6b",
        "outputId": "08b7056a-b2b7-4879-a661-6d0d9858b5d1",
        "colab": {
          "base_uri": "https://localhost:8080/"
        }
      },
      "outputs": [
        {
          "output_type": "execute_result",
          "data": {
            "text/plain": [
              "array([[1., 0., 0., 0., 0.],\n",
              "       [0., 1., 0., 0., 0.],\n",
              "       [0., 0., 1., 0., 0.],\n",
              "       [0., 0., 0., 1., 0.],\n",
              "       [0., 0., 0., 0., 1.]])"
            ]
          },
          "metadata": {},
          "execution_count": 42
        }
      ],
      "source": [
        "np.eye(5)"
      ]
    },
    {
      "cell_type": "code",
      "execution_count": null,
      "id": "ad542256-4e6e-4701-a9e1-a617c82567b0",
      "metadata": {
        "id": "ad542256-4e6e-4701-a9e1-a617c82567b0",
        "outputId": "e5236f1e-4b7f-4fbf-a475-f9b1345c71cc",
        "colab": {
          "base_uri": "https://localhost:8080/"
        }
      },
      "outputs": [
        {
          "output_type": "execute_result",
          "data": {
            "text/plain": [
              "array([[1., 0., 0., 0.],\n",
              "       [0., 1., 0., 0.],\n",
              "       [0., 0., 1., 0.],\n",
              "       [0., 0., 0., 1.]])"
            ]
          },
          "metadata": {},
          "execution_count": 43
        }
      ],
      "source": [
        "np.eye(4)"
      ]
    },
    {
      "cell_type": "code",
      "execution_count": null,
      "id": "27dc10ec-257d-4c06-9349-0d84f5d0da3c",
      "metadata": {
        "id": "27dc10ec-257d-4c06-9349-0d84f5d0da3c"
      },
      "outputs": [],
      "source": []
    }
  ],
  "metadata": {
    "kernelspec": {
      "display_name": "Python [conda env:anaconda3-genai]",
      "language": "python",
      "name": "conda-env-anaconda3-genai-py"
    },
    "language_info": {
      "codemirror_mode": {
        "name": "ipython",
        "version": 3
      },
      "file_extension": ".py",
      "mimetype": "text/x-python",
      "name": "python",
      "nbconvert_exporter": "python",
      "pygments_lexer": "ipython3",
      "version": "3.11.5"
    },
    "colab": {
      "provenance": [],
      "include_colab_link": true
    }
  },
  "nbformat": 4,
  "nbformat_minor": 5
}